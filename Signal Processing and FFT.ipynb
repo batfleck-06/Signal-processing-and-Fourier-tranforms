{
 "cells": [
  {
   "cell_type": "code",
   "execution_count": 1,
   "id": "8488ed8a",
   "metadata": {},
   "outputs": [],
   "source": [
    "# Here, we import all packages we need.\n",
    "\n",
    "# This is a package for handling and manipulating data.\n",
    "import pandas as pd\n",
    "\n",
    "# This is the standard package for plotting.\n",
    "from matplotlib import pyplot as plt \n",
    "\n",
    "# Seaborn is build on matplotlib.\n",
    "# It is more comfortable to use than pure matplotlib.\n",
    "import seaborn as sns\n",
    "\n",
    "# Numpy helps us handling arrays of numbers\n",
    "import numpy as np\n",
    "\n",
    "# We use this function to calculate the fft\n",
    "from numpy.fft import fft, ifft\n",
    "\n",
    "# This shifts the output of the fft so that zero frequency is at the centre\n",
    "from numpy.fft import fftshift\n",
    "\n",
    "# The inverse of fftshift \n",
    "from numpy.fft import ifftshift\n",
    "\n",
    "import matplotlib as mpl\n",
    "mpl.rcParams['figure.dpi'] = 100\n",
    "\n",
    "from scipy import signal\n",
    "\n",
    "from scipy.io import wavfile\n",
    "\n",
    "import IPython.display as ipd"
   ]
  },
  {
   "cell_type": "markdown",
   "id": "03a398f0",
   "metadata": {},
   "source": [
    "#### Using the file './Jungle-SoundBible.com-1211567897.wav' We are gonna Print the number of samples, the length of the file in seconds, and the sample rate.Then after listening to the audio we will plot the time series, the spectrum, and the spectrogram."
   ]
  },
  {
   "cell_type": "code",
   "execution_count": null,
   "id": "49abf594",
   "metadata": {},
   "outputs": [],
   "source": []
  }
 ],
 "metadata": {
  "kernelspec": {
   "display_name": "Python 3 (ipykernel)",
   "language": "python",
   "name": "python3"
  },
  "language_info": {
   "codemirror_mode": {
    "name": "ipython",
    "version": 3
   },
   "file_extension": ".py",
   "mimetype": "text/x-python",
   "name": "python",
   "nbconvert_exporter": "python",
   "pygments_lexer": "ipython3",
   "version": "3.9.12"
  }
 },
 "nbformat": 4,
 "nbformat_minor": 5
}
